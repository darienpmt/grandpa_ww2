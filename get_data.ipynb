{
 "cells": [
  {
   "cell_type": "code",
   "execution_count": 1,
   "metadata": {},
   "outputs": [
    {
     "ename": "ModuleNotFoundError",
     "evalue": "No module named 'pymongo'",
     "output_type": "error",
     "traceback": [
      "\u001b[0;31m---------------------------------------------------------------------------\u001b[0m",
      "\u001b[0;31mModuleNotFoundError\u001b[0m                       Traceback (most recent call last)",
      "\u001b[0;32m<ipython-input-1-3eea26170727>\u001b[0m in \u001b[0;36m<module>\u001b[0;34m\u001b[0m\n\u001b[1;32m      3\u001b[0m \u001b[0;32mimport\u001b[0m \u001b[0mnumpy\u001b[0m \u001b[0;32mas\u001b[0m \u001b[0mnp\u001b[0m\u001b[0;34m\u001b[0m\u001b[0;34m\u001b[0m\u001b[0m\n\u001b[1;32m      4\u001b[0m \u001b[0;34m\u001b[0m\u001b[0m\n\u001b[0;32m----> 5\u001b[0;31m \u001b[0;32mfrom\u001b[0m \u001b[0mpymongo\u001b[0m \u001b[0;32mimport\u001b[0m \u001b[0mMongoClient\u001b[0m\u001b[0;34m\u001b[0m\u001b[0;34m\u001b[0m\u001b[0m\n\u001b[0m\u001b[1;32m      6\u001b[0m \u001b[0;32mfrom\u001b[0m \u001b[0mpprint\u001b[0m \u001b[0;32mimport\u001b[0m \u001b[0mpprint\u001b[0m\u001b[0;34m\u001b[0m\u001b[0;34m\u001b[0m\u001b[0m\n",
      "\u001b[0;31mModuleNotFoundError\u001b[0m: No module named 'pymongo'"
     ]
    }
   ],
   "source": [
    "import os\n",
    "import pandas as pd\n",
    "import numpy as np\n",
    "\n",
    "from pymongo import MongoClient\n",
    "from pprint import pprint"
   ]
  },
  {
   "cell_type": "code",
   "execution_count": 150,
   "metadata": {},
   "outputs": [],
   "source": [
    "pd.options.display.max_columns = 999\n",
    "pd.options.display.max_rows = 999"
   ]
  },
  {
   "cell_type": "markdown",
   "metadata": {},
   "source": [
    "# Writing Functions to clean the letters\n",
    "## Opens file"
   ]
  },
  {
   "cell_type": "code",
   "execution_count": 2,
   "metadata": {},
   "outputs": [],
   "source": [
    "def openFile(fn):\n",
    "    \n",
    "    file = open(fn,\"r\",encoding='utf-8-sig') \n",
    "    text = file.read()\n",
    "    \n",
    "    return text\n",
    "    "
   ]
  },
  {
   "cell_type": "markdown",
   "metadata": {},
   "source": [
    "## Gets dates from document"
   ]
  },
  {
   "cell_type": "code",
   "execution_count": 3,
   "metadata": {},
   "outputs": [],
   "source": [
    "def getDates(text):\n",
    "    \n",
    "    dates = []\n",
    "    letters = text.split('newletter')\n",
    "\n",
    "    for letter in letters:\n",
    "        letter = letter.split()\n",
    "        for i in range(len(letter)):\n",
    "            word = letter[i]\n",
    "            if word in ['January', 'February', 'March', 'April', 'May', 'June', 'July', 'August', 'September',\n",
    "                       'October', 'November', 'December']:\n",
    "                    dates.append(letter[i:i+3])\n",
    "\n",
    "    letter_dates = []\n",
    "\n",
    "    for date in dates:\n",
    "        if date[-1] in ['1942', '1943', '1944', '1945']:\n",
    "            letter_dates.append(' '.join(date))\n",
    "\n",
    "    return letter_dates\n",
    "    "
   ]
  },
  {
   "cell_type": "markdown",
   "metadata": {},
   "source": [
    "## Gets letters from document"
   ]
  },
  {
   "cell_type": "code",
   "execution_count": 4,
   "metadata": {},
   "outputs": [],
   "source": [
    "def getContent(text):\n",
    "    \n",
    "    letters = text.lower().split('newletter')\n",
    "    clean_letters = []\n",
    "\n",
    "    for letter in letters:\n",
    "        clean_letters.append(\" \".join(letter.split()))\n",
    "    \n",
    "    return clean_letters"
   ]
  },
  {
   "cell_type": "code",
   "execution_count": 72,
   "metadata": {},
   "outputs": [],
   "source": [
    "def getLocation(text):\n",
    "    \n",
    "    locations = ['australia', 'guinea', 'pacific', 'phillippine', 'mindanao', 'zamboanga', 'leyte', \n",
    "                 'okinawa', 'japan','hiro', 'california']\n",
    "    \n",
    "    letters = text.lower().split('newletter')\n",
    "    \n",
    "    letter_locations = []\n",
    "    \n",
    "    for letter in letters:\n",
    "        for word in letter.split():\n",
    "            if word in locations:\n",
    "                letter_locations.append(word)\n",
    "            break\n",
    "    return letter_locations"
   ]
  },
  {
   "cell_type": "markdown",
   "metadata": {},
   "source": [
    "# Listing all files in directory"
   ]
  },
  {
   "cell_type": "code",
   "execution_count": 5,
   "metadata": {
    "scrolled": true
   },
   "outputs": [
    {
     "name": "stdout",
     "output_type": "stream",
     "text": [
      "5-8_1944.txt\n",
      "5-8_1945.txt\n",
      "9-12_1942.txt\n",
      "9-12_1943.txt\n",
      "5-8_1943.txt\n",
      "9-12_1944.txt\n",
      "9-11_1945.txt\n",
      "1-4_1943.txt\n",
      "1-4_1944.txt\n",
      "1-4_1945.txt\n",
      "1_5-8_1942.txt\n"
     ]
    }
   ],
   "source": [
    "for fn in os.listdir('letters_txt'):\n",
    "    print(fn)"
   ]
  },
  {
   "cell_type": "markdown",
   "metadata": {},
   "source": [
    "# Check to make sure number of dates matches number of letters"
   ]
  },
  {
   "cell_type": "code",
   "execution_count": 6,
   "metadata": {},
   "outputs": [
    {
     "name": "stdout",
     "output_type": "stream",
     "text": [
      "5-8_1944.txt --> True\n",
      "5-8_1945.txt --> True\n",
      "9-12_1942.txt --> True\n",
      "9-12_1943.txt --> True\n",
      "5-8_1943.txt --> True\n",
      "9-12_1944.txt --> True\n",
      "9-11_1945.txt --> True\n",
      "1-4_1943.txt --> True\n",
      "1-4_1944.txt --> True\n",
      "1-4_1945.txt --> True\n",
      "1_5-8_1942.txt --> True\n"
     ]
    }
   ],
   "source": [
    "for fn in os.listdir('letters_txt'):\n",
    "    \n",
    "    test_file = openFile('letters_txt/' + fn)\n",
    "    test_dates = getDates(test_file)\n",
    "    test_content = getContent(test_file)\n",
    "    \n",
    "    print(fn, '-->', len(test_dates) == len(test_content))\n",
    "    "
   ]
  },
  {
   "cell_type": "markdown",
   "metadata": {},
   "source": [
    "# Build documents"
   ]
  },
  {
   "cell_type": "code",
   "execution_count": 7,
   "metadata": {},
   "outputs": [],
   "source": [
    "dataframe = []\n",
    "\n",
    "for fn in os.listdir('letters_txt'):\n",
    "    \n",
    "    text = openFile('letters_txt/' + fn)\n",
    "    dates = getDates(text)\n",
    "    content = getContent(text)\n",
    "    \n",
    "    for date, letter in zip(dates, content):\n",
    "    \n",
    "        dictionary = {}\n",
    "        dictionary['Date'] = date\n",
    "        dictionary['Letter'] = letter\n",
    "\n",
    "        dataframe.append(dictionary)\n"
   ]
  },
  {
   "cell_type": "markdown",
   "metadata": {},
   "source": [
    "## Building MongoDB database"
   ]
  },
  {
   "cell_type": "code",
   "execution_count": 20,
   "metadata": {},
   "outputs": [],
   "source": [
    "client = MongoClient()"
   ]
  },
  {
   "cell_type": "code",
   "execution_count": 21,
   "metadata": {},
   "outputs": [],
   "source": [
    "mydb = client[\"mydatabase\"]"
   ]
  },
  {
   "cell_type": "code",
   "execution_count": 22,
   "metadata": {},
   "outputs": [],
   "source": [
    "mycollection = mydb[\"WW2_letters\"]"
   ]
  },
  {
   "cell_type": "code",
   "execution_count": 23,
   "metadata": {},
   "outputs": [
    {
     "data": {
      "text/plain": [
       "<pymongo.results.InsertManyResult at 0x10215430a0>"
      ]
     },
     "execution_count": 23,
     "metadata": {},
     "output_type": "execute_result"
    }
   ],
   "source": [
    "mycollection.insert_many(dataframe)"
   ]
  },
  {
   "cell_type": "code",
   "execution_count": 24,
   "metadata": {},
   "outputs": [],
   "source": [
    "cursor = mycollection.find({},{ \"_id\": 0, \"Date\": 1, \"Letter\": 1 })"
   ]
  },
  {
   "cell_type": "code",
   "execution_count": 25,
   "metadata": {},
   "outputs": [],
   "source": [
    "letters_df = pd.DataFrame(list(cursor))"
   ]
  },
  {
   "cell_type": "code",
   "execution_count": 37,
   "metadata": {},
   "outputs": [],
   "source": [
    "letters_df.Date =  pd.to_datetime(letters_df.Date)"
   ]
  },
  {
   "cell_type": "code",
   "execution_count": 43,
   "metadata": {},
   "outputs": [],
   "source": [
    "letters_df = letters_df.sort_values(\"Date\").reset_index()"
   ]
  },
  {
   "cell_type": "code",
   "execution_count": 45,
   "metadata": {},
   "outputs": [],
   "source": [
    "letters_df.drop('index', axis=1, inplace=True)"
   ]
  },
  {
   "cell_type": "code",
   "execution_count": 46,
   "metadata": {},
   "outputs": [
    {
     "data": {
      "text/html": [
       "<div>\n",
       "<style scoped>\n",
       "    .dataframe tbody tr th:only-of-type {\n",
       "        vertical-align: middle;\n",
       "    }\n",
       "\n",
       "    .dataframe tbody tr th {\n",
       "        vertical-align: top;\n",
       "    }\n",
       "\n",
       "    .dataframe thead th {\n",
       "        text-align: right;\n",
       "    }\n",
       "</style>\n",
       "<table border=\"1\" class=\"dataframe\">\n",
       "  <thead>\n",
       "    <tr style=\"text-align: right;\">\n",
       "      <th></th>\n",
       "      <th>Date</th>\n",
       "      <th>Letter</th>\n",
       "    </tr>\n",
       "  </thead>\n",
       "  <tbody>\n",
       "    <tr>\n",
       "      <th>0</th>\n",
       "      <td>1942-05-13</td>\n",
       "      <td>australia may 13, 1942 my darling annette, tod...</td>\n",
       "    </tr>\n",
       "    <tr>\n",
       "      <th>1</th>\n",
       "      <td>1942-05-19</td>\n",
       "      <td>western union telegram australia may 19, 1942 ...</td>\n",
       "    </tr>\n",
       "    <tr>\n",
       "      <th>2</th>\n",
       "      <td>1942-05-20</td>\n",
       "      <td>may 20, 1942 my darling annette, to my great s...</td>\n",
       "    </tr>\n",
       "    <tr>\n",
       "      <th>3</th>\n",
       "      <td>1942-05-22</td>\n",
       "      <td>silvio may 22, 1942 my darling annette, it’s 8...</td>\n",
       "    </tr>\n",
       "    <tr>\n",
       "      <th>4</th>\n",
       "      <td>1942-06-12</td>\n",
       "      <td>australia june 12, 1942 my darling annette, i ...</td>\n",
       "    </tr>\n",
       "  </tbody>\n",
       "</table>\n",
       "</div>"
      ],
      "text/plain": [
       "        Date                                             Letter\n",
       "0 1942-05-13  australia may 13, 1942 my darling annette, tod...\n",
       "1 1942-05-19  western union telegram australia may 19, 1942 ...\n",
       "2 1942-05-20  may 20, 1942 my darling annette, to my great s...\n",
       "3 1942-05-22  silvio may 22, 1942 my darling annette, it’s 8...\n",
       "4 1942-06-12  australia june 12, 1942 my darling annette, i ..."
      ]
     },
     "execution_count": 46,
     "metadata": {},
     "output_type": "execute_result"
    }
   ],
   "source": [
    "letters_df.head()"
   ]
  },
  {
   "cell_type": "markdown",
   "metadata": {},
   "source": [
    "## Getting locations"
   ]
  },
  {
   "cell_type": "code",
   "execution_count": 159,
   "metadata": {},
   "outputs": [],
   "source": [
    "locations = ['australia', 'guinea', 'pacific', 'philippine', 'mindanao', 'zamboanga', 'leyte', \n",
    "                 'okinawa', 'japan','hiro', 'california']\n",
    "\n",
    "letter_locals = []\n",
    "\n",
    "for index, letter in enumerate(letters_df.Letter):\n",
    "\n",
    "    for word in letter.split():\n",
    "        if word not in locations:\n",
    "            continue\n",
    "        else:\n",
    "            letter_locals.append(word)\n",
    "            break\n",
    "            \n",
    "    if word not in locations:\n",
    "        letter_locals.append(letter_locals[index - 1])\n"
   ]
  },
  {
   "cell_type": "code",
   "execution_count": 163,
   "metadata": {},
   "outputs": [],
   "source": [
    "letters_df.Location = np.array(letter_locals)"
   ]
  },
  {
   "cell_type": "code",
   "execution_count": 166,
   "metadata": {},
   "outputs": [],
   "source": [
    "locations_dict = {'australia': 'Australia', 'guinea': 'New Guinea', 'pacific': 'Southwest Pacific', \n",
    "                  'philippine': 'Philippine Islands', 'mindanao': 'Mindanao', 'zamboanga':'Zamboanga' , \n",
    "                  'leyte': 'Leyte', 'okinawa':'Okinawa' , 'japan': 'Japan', 'hiro': 'Hiro', \n",
    "                  'california': 'California'}"
   ]
  },
  {
   "cell_type": "code",
   "execution_count": 167,
   "metadata": {},
   "outputs": [],
   "source": [
    "letters_df.Location = letters_df.Location.apply(lambda x: locations_dict[x])"
   ]
  },
  {
   "cell_type": "code",
   "execution_count": 174,
   "metadata": {},
   "outputs": [],
   "source": [
    "letters_df = letters_df[['Date', 'Location', 'Letter']]"
   ]
  },
  {
   "cell_type": "code",
   "execution_count": 176,
   "metadata": {},
   "outputs": [
    {
     "data": {
      "text/html": [
       "<div>\n",
       "<style scoped>\n",
       "    .dataframe tbody tr th:only-of-type {\n",
       "        vertical-align: middle;\n",
       "    }\n",
       "\n",
       "    .dataframe tbody tr th {\n",
       "        vertical-align: top;\n",
       "    }\n",
       "\n",
       "    .dataframe thead th {\n",
       "        text-align: right;\n",
       "    }\n",
       "</style>\n",
       "<table border=\"1\" class=\"dataframe\">\n",
       "  <thead>\n",
       "    <tr style=\"text-align: right;\">\n",
       "      <th></th>\n",
       "      <th>Date</th>\n",
       "      <th>Location</th>\n",
       "      <th>Letter</th>\n",
       "    </tr>\n",
       "  </thead>\n",
       "  <tbody>\n",
       "    <tr>\n",
       "      <th>0</th>\n",
       "      <td>1942-05-13</td>\n",
       "      <td>Australia</td>\n",
       "      <td>australia may 13, 1942 my darling annette, tod...</td>\n",
       "    </tr>\n",
       "    <tr>\n",
       "      <th>1</th>\n",
       "      <td>1942-05-19</td>\n",
       "      <td>Australia</td>\n",
       "      <td>western union telegram australia may 19, 1942 ...</td>\n",
       "    </tr>\n",
       "    <tr>\n",
       "      <th>2</th>\n",
       "      <td>1942-05-20</td>\n",
       "      <td>Australia</td>\n",
       "      <td>may 20, 1942 my darling annette, to my great s...</td>\n",
       "    </tr>\n",
       "    <tr>\n",
       "      <th>3</th>\n",
       "      <td>1942-05-22</td>\n",
       "      <td>Australia</td>\n",
       "      <td>silvio may 22, 1942 my darling annette, it’s 8...</td>\n",
       "    </tr>\n",
       "    <tr>\n",
       "      <th>4</th>\n",
       "      <td>1942-06-12</td>\n",
       "      <td>Australia</td>\n",
       "      <td>australia june 12, 1942 my darling annette, i ...</td>\n",
       "    </tr>\n",
       "  </tbody>\n",
       "</table>\n",
       "</div>"
      ],
      "text/plain": [
       "        Date   Location                                             Letter\n",
       "0 1942-05-13  Australia  australia may 13, 1942 my darling annette, tod...\n",
       "1 1942-05-19  Australia  western union telegram australia may 19, 1942 ...\n",
       "2 1942-05-20  Australia  may 20, 1942 my darling annette, to my great s...\n",
       "3 1942-05-22  Australia  silvio may 22, 1942 my darling annette, it’s 8...\n",
       "4 1942-06-12  Australia  australia june 12, 1942 my darling annette, i ..."
      ]
     },
     "execution_count": 176,
     "metadata": {},
     "output_type": "execute_result"
    }
   ],
   "source": [
    "letters_df.head()"
   ]
  },
  {
   "cell_type": "code",
   "execution_count": 178,
   "metadata": {},
   "outputs": [],
   "source": [
    "#letters_df.to_csv('letters_df.csv')"
   ]
  }
 ],
 "metadata": {
  "kernelspec": {
   "display_name": "Python 3",
   "language": "python",
   "name": "python3"
  },
  "language_info": {
   "codemirror_mode": {
    "name": "ipython",
    "version": 3
   },
   "file_extension": ".py",
   "mimetype": "text/x-python",
   "name": "python",
   "nbconvert_exporter": "python",
   "pygments_lexer": "ipython3",
   "version": "3.7.7"
  },
  "toc": {
   "base_numbering": 1,
   "nav_menu": {},
   "number_sections": true,
   "sideBar": true,
   "skip_h1_title": false,
   "title_cell": "Table of Contents",
   "title_sidebar": "Contents",
   "toc_cell": false,
   "toc_position": {},
   "toc_section_display": true,
   "toc_window_display": false
  }
 },
 "nbformat": 4,
 "nbformat_minor": 4
}
